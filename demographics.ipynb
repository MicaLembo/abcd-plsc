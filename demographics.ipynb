{
 "cells": [
  {
   "cell_type": "code",
   "execution_count": 1,
   "id": "a949552d",
   "metadata": {},
   "outputs": [],
   "source": [
    "import os\n",
    "from os.path import join\n",
    "import pandas as pd"
   ]
  },
  {
   "cell_type": "code",
   "execution_count": null,
   "id": "8fe53d94",
   "metadata": {},
   "outputs": [],
   "source": [
    "DERIV_DIR = \"./derivatives/full\"\n",
    "\n",
    "cov_df = pd.read_csv(join(DERIV_DIR, \"covariate.csv\"))"
   ]
  },
  {
   "cell_type": "code",
   "execution_count": null,
   "id": "5b5d9665",
   "metadata": {},
   "outputs": [],
   "source": [
    "cov_df"
   ]
  },
  {
   "cell_type": "code",
   "execution_count": 9,
   "id": "1a418129",
   "metadata": {},
   "outputs": [],
   "source": [
    "num_vars = [\n",
    "    \"interview_age\",\n",
    "    \"demo_prnt_age_v2\",\n",
    "    \"demo_comb_income_v2\",\n",
    "    \"demo_prnt_income_v2_l\",\n",
    "    \"demo_prnt_ed_v2_2yr_l\",\n",
    "    \"demo_prtnr_ed_v2_2yr_l\",\n",
    "]\n",
    "cat_vars = [\n",
    "    \"demo_sex_v2\",\n",
    "    \"demo_prnt_gender_id_v2\",\n",
    "    \"demo_origin_v2\",\n",
    "]"
   ]
  },
  {
   "cell_type": "code",
   "execution_count": 10,
   "id": "c7a8f154",
   "metadata": {},
   "outputs": [
    {
     "name": "stdout",
     "output_type": "stream",
     "text": [
      "Numeric summaries:\n",
      "                              Mean    StdDev\n",
      "interview_age           168.059072  8.284449\n",
      "demo_prnt_age_v2         38.852321  5.797366\n",
      "demo_comb_income_v2       6.455696  2.169497\n",
      "demo_prnt_income_v2_l     4.843882  2.357124\n",
      "demo_prnt_ed_v2_2yr_l    16.894515  3.802521\n",
      "demo_prtnr_ed_v2_2yr_l   15.371308  4.694626\n",
      "\n",
      "Categorical counts:\n",
      "\n",
      "demo_sex_v2:\n",
      "demo_sex_v2\n",
      "1.0    135\n",
      "2.0    102\n",
      "Name: count, dtype: int64\n",
      "\n",
      "demo_prnt_gender_id_v2:\n",
      "demo_prnt_gender_id_v2\n",
      "2.0    219\n",
      "1.0     17\n",
      "3.0      1\n",
      "Name: count, dtype: int64\n",
      "\n",
      "demo_origin_v2:\n",
      "demo_origin_v2\n",
      "189.0    224\n",
      "193.0      5\n",
      "111.0      3\n",
      "188.0      1\n",
      "159.0      1\n",
      "73.0       1\n",
      "68.0       1\n",
      "44.0       1\n",
      "Name: count, dtype: int64\n"
     ]
    }
   ],
   "source": [
    "# Numeric summaries: mean & standard deviation\n",
    "num_summary = cov_df[num_vars].agg([\"mean\", \"std\"]).T\n",
    "num_summary.columns = [\"Mean\", \"StdDev\"]\n",
    "print(\"Numeric summaries:\")\n",
    "print(num_summary)\n",
    "\n",
    "# Categorical summaries: counts (including NaNs if you like)\n",
    "print(\"\\nCategorical counts:\")\n",
    "for var in cat_vars:\n",
    "    counts = cov_df[var].value_counts(dropna=False)\n",
    "    print(f\"\\n{var}:\\n{counts}\")"
   ]
  }
 ],
 "metadata": {
  "kernelspec": {
   "display_name": ".venv",
   "language": "python",
   "name": "python3"
  },
  "language_info": {
   "codemirror_mode": {
    "name": "ipython",
    "version": 3
   },
   "file_extension": ".py",
   "mimetype": "text/x-python",
   "name": "python",
   "nbconvert_exporter": "python",
   "pygments_lexer": "ipython3",
   "version": "3.9.6"
  }
 },
 "nbformat": 4,
 "nbformat_minor": 5
}
